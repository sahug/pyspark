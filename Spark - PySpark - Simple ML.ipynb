{
  "nbformat": 4,
  "nbformat_minor": 0,
  "metadata": {
    "colab": {
      "provenance": [],
      "authorship_tag": "ABX9TyOKbh4j4TB0Rg9FxKCeo7bc",
      "include_colab_link": true
    },
    "kernelspec": {
      "name": "python3",
      "display_name": "Python 3"
    },
    "language_info": {
      "name": "python"
    }
  },
  "cells": [
    {
      "cell_type": "markdown",
      "metadata": {
        "id": "view-in-github",
        "colab_type": "text"
      },
      "source": [
        "<a href=\"https://colab.research.google.com/github/sahug/pyspark/blob/main/Spark%20-%20PySpark%20-%20Simple%20ML.ipynb\" target=\"_parent\"><img src=\"https://colab.research.google.com/assets/colab-badge.svg\" alt=\"Open In Colab\"/></a>"
      ]
    },
    {
      "cell_type": "markdown",
      "source": [
        "# **Spark - PySpark - Simple ML**"
      ],
      "metadata": {
        "id": "sXEMD5JCm4zK"
      }
    },
    {
      "cell_type": "code",
      "execution_count": 1,
      "metadata": {
        "colab": {
          "base_uri": "https://localhost:8080/"
        },
        "id": "3ZiVWXnCm0rW",
        "outputId": "1c994c35-7053-4154-e2ee-55bc7930c074"
      },
      "outputs": [
        {
          "output_type": "stream",
          "name": "stdout",
          "text": [
            "Looking in indexes: https://pypi.org/simple, https://us-python.pkg.dev/colab-wheels/public/simple/\n",
            "Collecting pyspark\n",
            "  Downloading pyspark-3.3.1.tar.gz (281.4 MB)\n",
            "\u001b[K     |████████████████████████████████| 281.4 MB 38 kB/s \n",
            "\u001b[?25hCollecting py4j==0.10.9.5\n",
            "  Downloading py4j-0.10.9.5-py2.py3-none-any.whl (199 kB)\n",
            "\u001b[K     |████████████████████████████████| 199 kB 50.5 MB/s \n",
            "\u001b[?25hBuilding wheels for collected packages: pyspark\n",
            "  Building wheel for pyspark (setup.py) ... \u001b[?25l\u001b[?25hdone\n",
            "  Created wheel for pyspark: filename=pyspark-3.3.1-py2.py3-none-any.whl size=281845512 sha256=d87f1af27db9de6ec16d66c9c79b9e4744c1dcb0bb45b2c1a171e877da239962\n",
            "  Stored in directory: /root/.cache/pip/wheels/42/59/f5/79a5bf931714dcd201b26025347785f087370a10a3329a899c\n",
            "Successfully built pyspark\n",
            "Installing collected packages: py4j, pyspark\n",
            "Successfully installed py4j-0.10.9.5 pyspark-3.3.1\n"
          ]
        }
      ],
      "source": [
        "!pip install pyspark"
      ]
    },
    {
      "cell_type": "code",
      "source": [
        "from pyspark.sql import SparkSession\n",
        "spark = SparkSession.builder.appName(\"SimpleML\").getOrCreate()"
      ],
      "metadata": {
        "id": "aaym1Pmgm8WE"
      },
      "execution_count": 2,
      "outputs": []
    },
    {
      "cell_type": "code",
      "source": [
        "df_pyspark = spark.read.csv(\"/content/salary.csv\", header=True, inferSchema=True)\n",
        "df_pyspark.show()"
      ],
      "metadata": {
        "colab": {
          "base_uri": "https://localhost:8080/"
        },
        "id": "SF42ADqcnAMn",
        "outputId": "534abd35-500d-4133-db7c-2d58e917e8e0"
      },
      "execution_count": 6,
      "outputs": [
        {
          "output_type": "stream",
          "name": "stdout",
          "text": [
            "+---------+---+---+------+\n",
            "|     Name|Age|Exp|Salary|\n",
            "+---------+---+---+------+\n",
            "|    Krish| 31| 10| 30000|\n",
            "|Sudhanshu| 30|  8| 25000|\n",
            "|    Sunny| 29|  4| 20000|\n",
            "|     Paul| 24|  3| 20000|\n",
            "|   Harsha| 21|  1| 15000|\n",
            "|  Shubham| 23|  2| 18000|\n",
            "+---------+---+---+------+\n",
            "\n"
          ]
        }
      ]
    },
    {
      "cell_type": "code",
      "source": [
        "df_pyspark.printSchema()"
      ],
      "metadata": {
        "colab": {
          "base_uri": "https://localhost:8080/"
        },
        "id": "n_ZllVztoqVo",
        "outputId": "f6cff6fa-432a-4934-8e78-6f71b5781c85"
      },
      "execution_count": 7,
      "outputs": [
        {
          "output_type": "stream",
          "name": "stdout",
          "text": [
            "root\n",
            " |-- Name: string (nullable = true)\n",
            " |-- Age: integer (nullable = true)\n",
            " |-- Exp: integer (nullable = true)\n",
            " |-- Salary: integer (nullable = true)\n",
            "\n"
          ]
        }
      ]
    },
    {
      "cell_type": "code",
      "source": [
        "from pyspark.ml.feature import VectorAssembler\n",
        "featureassembler = VectorAssembler(\n",
        "    inputCols=[\"Age\", \"Exp\"],\n",
        "    outputCol=\"Ind Features\"\n",
        "    )\n",
        "\n",
        "output = featureassembler.transform(df_pyspark)\n",
        "\n",
        "output.show()\n",
        "\n",
        "output.columns"
      ],
      "metadata": {
        "colab": {
          "base_uri": "https://localhost:8080/"
        },
        "id": "DcBOY2vCpttR",
        "outputId": "ece6b788-0bbd-4060-a831-dc389ca88098"
      },
      "execution_count": 17,
      "outputs": [
        {
          "output_type": "stream",
          "name": "stdout",
          "text": [
            "+---------+---+---+------+------------+\n",
            "|     Name|Age|Exp|Salary|Ind Features|\n",
            "+---------+---+---+------+------------+\n",
            "|    Krish| 31| 10| 30000| [31.0,10.0]|\n",
            "|Sudhanshu| 30|  8| 25000|  [30.0,8.0]|\n",
            "|    Sunny| 29|  4| 20000|  [29.0,4.0]|\n",
            "|     Paul| 24|  3| 20000|  [24.0,3.0]|\n",
            "|   Harsha| 21|  1| 15000|  [21.0,1.0]|\n",
            "|  Shubham| 23|  2| 18000|  [23.0,2.0]|\n",
            "+---------+---+---+------+------------+\n",
            "\n"
          ]
        },
        {
          "output_type": "execute_result",
          "data": {
            "text/plain": [
              "['Name', 'Age', 'Exp', 'Salary', 'Ind Features']"
            ]
          },
          "metadata": {},
          "execution_count": 17
        }
      ]
    },
    {
      "cell_type": "code",
      "source": [
        "final_ds = output.select(\"Ind Features\", \"Salary\")\n",
        "\n",
        "final_ds.show()"
      ],
      "metadata": {
        "colab": {
          "base_uri": "https://localhost:8080/"
        },
        "id": "0jLb4bK1q3q-",
        "outputId": "d0f5c999-6ca1-45d0-b98e-f9d555452477"
      },
      "execution_count": 18,
      "outputs": [
        {
          "output_type": "stream",
          "name": "stdout",
          "text": [
            "+------------+------+\n",
            "|Ind Features|Salary|\n",
            "+------------+------+\n",
            "| [31.0,10.0]| 30000|\n",
            "|  [30.0,8.0]| 25000|\n",
            "|  [29.0,4.0]| 20000|\n",
            "|  [24.0,3.0]| 20000|\n",
            "|  [21.0,1.0]| 15000|\n",
            "|  [23.0,2.0]| 18000|\n",
            "+------------+------+\n",
            "\n"
          ]
        }
      ]
    },
    {
      "cell_type": "code",
      "source": [
        "from pyspark.ml.regression import LinearRegression\n",
        "train_data, test_data = final_ds.randomSplit([0.75, 0.25])\n",
        "regressor = LinearRegression(featuresCol=\"Ind Features\", labelCol=\"Salary\")\n",
        "regressor = regressor.fit(train_data)"
      ],
      "metadata": {
        "id": "C9THqrpUrfd9"
      },
      "execution_count": 20,
      "outputs": []
    },
    {
      "cell_type": "code",
      "source": [
        "regressor.coefficients"
      ],
      "metadata": {
        "colab": {
          "base_uri": "https://localhost:8080/"
        },
        "id": "7syQbvPqsCNC",
        "outputId": "84b07a00-637f-4a08-d722-4a7e10efb892"
      },
      "execution_count": 21,
      "outputs": [
        {
          "output_type": "execute_result",
          "data": {
            "text/plain": [
              "DenseVector([-115.8558, 1602.7301])"
            ]
          },
          "metadata": {},
          "execution_count": 21
        }
      ]
    },
    {
      "cell_type": "code",
      "source": [
        "regressor.intercept"
      ],
      "metadata": {
        "colab": {
          "base_uri": "https://localhost:8080/"
        },
        "id": "ErsUoGsKsJA2",
        "outputId": "0ba83cac-ac30-4920-928a-e8eace0a03d6"
      },
      "execution_count": 22,
      "outputs": [
        {
          "output_type": "execute_result",
          "data": {
            "text/plain": [
              "16904.795239761996"
            ]
          },
          "metadata": {},
          "execution_count": 22
        }
      ]
    },
    {
      "cell_type": "code",
      "source": [
        "pred_results = regressor.evaluate(test_data)\n",
        "pred_results.predictions.show()"
      ],
      "metadata": {
        "id": "4KMZwbaytD4y"
      },
      "execution_count": null,
      "outputs": []
    },
    {
      "cell_type": "code",
      "source": [
        "pred_results.meanAbsoluteError, pred_results.meanSquaredError"
      ],
      "metadata": {
        "id": "c-q35Om7tEU4"
      },
      "execution_count": null,
      "outputs": []
    }
  ]
}