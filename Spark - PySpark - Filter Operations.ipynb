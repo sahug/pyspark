{
  "nbformat": 4,
  "nbformat_minor": 0,
  "metadata": {
    "colab": {
      "provenance": [],
      "authorship_tag": "ABX9TyOJpwjGDB8qnoNR3RblybKj",
      "include_colab_link": true
    },
    "kernelspec": {
      "name": "python3",
      "display_name": "Python 3"
    },
    "language_info": {
      "name": "python"
    }
  },
  "cells": [
    {
      "cell_type": "markdown",
      "metadata": {
        "id": "view-in-github",
        "colab_type": "text"
      },
      "source": [
        "<a href=\"https://colab.research.google.com/github/sahug/pyspark/blob/main/Spark%20-%20PySpark%20-%20Filter%20Operations.ipynb\" target=\"_parent\"><img src=\"https://colab.research.google.com/assets/colab-badge.svg\" alt=\"Open In Colab\"/></a>"
      ]
    },
    {
      "cell_type": "markdown",
      "source": [
        "# **Spark - PySpark - Filter Operations**"
      ],
      "metadata": {
        "id": "AoXB2lYKxjgx"
      }
    },
    {
      "cell_type": "code",
      "execution_count": 1,
      "metadata": {
        "colab": {
          "base_uri": "https://localhost:8080/"
        },
        "id": "1vSii3U0xMR5",
        "outputId": "6538dcdd-573c-45e0-e69c-9596ab3d644c"
      },
      "outputs": [
        {
          "output_type": "stream",
          "name": "stdout",
          "text": [
            "Looking in indexes: https://pypi.org/simple, https://us-python.pkg.dev/colab-wheels/public/simple/\n",
            "Collecting pyspark\n",
            "  Downloading pyspark-3.3.1.tar.gz (281.4 MB)\n",
            "\u001b[K     |████████████████████████████████| 281.4 MB 41 kB/s \n",
            "\u001b[?25hCollecting py4j==0.10.9.5\n",
            "  Downloading py4j-0.10.9.5-py2.py3-none-any.whl (199 kB)\n",
            "\u001b[K     |████████████████████████████████| 199 kB 62.3 MB/s \n",
            "\u001b[?25hBuilding wheels for collected packages: pyspark\n",
            "  Building wheel for pyspark (setup.py) ... \u001b[?25l\u001b[?25hdone\n",
            "  Created wheel for pyspark: filename=pyspark-3.3.1-py2.py3-none-any.whl size=281845512 sha256=418c088432f199b602e37cc99486fa97a4d60ff204192517dfc407ea14df7264\n",
            "  Stored in directory: /root/.cache/pip/wheels/42/59/f5/79a5bf931714dcd201b26025347785f087370a10a3329a899c\n",
            "Successfully built pyspark\n",
            "Installing collected packages: py4j, pyspark\n",
            "Successfully installed py4j-0.10.9.5 pyspark-3.3.1\n"
          ]
        }
      ],
      "source": [
        "!pip install pyspark"
      ]
    },
    {
      "cell_type": "code",
      "source": [
        "from pyspark.sql import SparkSession\n",
        "spark = SparkSession.builder.appName(\"Filter\").getOrCreate()"
      ],
      "metadata": {
        "id": "vnIwBGhExyug"
      },
      "execution_count": 2,
      "outputs": []
    },
    {
      "cell_type": "code",
      "source": [
        "df_pyspark = spark.read.csv(\"/content/movies.csv\", header=True, inferSchema=True)\n",
        "df_pyspark.show()"
      ],
      "metadata": {
        "colab": {
          "base_uri": "https://localhost:8080/"
        },
        "id": "SwNKMFy4x2xE",
        "outputId": "4eb4a730-b831-4f4b-fe16-6899494e1bd9"
      },
      "execution_count": 3,
      "outputs": [
        {
          "output_type": "stream",
          "name": "stdout",
          "text": [
            "+-------+--------------------+--------------------+\n",
            "|movieId|               title|              genres|\n",
            "+-------+--------------------+--------------------+\n",
            "|      1|    Toy Story (1995)|Adventure|Animati...|\n",
            "|      2|      Jumanji (1995)|Adventure|Childre...|\n",
            "|      3|Grumpier Old Men ...|      Comedy|Romance|\n",
            "|      4|Waiting to Exhale...|Comedy|Drama|Romance|\n",
            "|      5|Father of the Bri...|              Comedy|\n",
            "|      6|         Heat (1995)|Action|Crime|Thri...|\n",
            "|      7|      Sabrina (1995)|      Comedy|Romance|\n",
            "|      8| Tom and Huck (1995)|  Adventure|Children|\n",
            "|      9| Sudden Death (1995)|              Action|\n",
            "|     10|    GoldenEye (1995)|Action|Adventure|...|\n",
            "|     11|American Presiden...|Comedy|Drama|Romance|\n",
            "|     12|Dracula: Dead and...|       Comedy|Horror|\n",
            "|     13|        Balto (1995)|Adventure|Animati...|\n",
            "|     14|        Nixon (1995)|               Drama|\n",
            "|     15|Cutthroat Island ...|Action|Adventure|...|\n",
            "|     16|       Casino (1995)|         Crime|Drama|\n",
            "|     17|Sense and Sensibi...|       Drama|Romance|\n",
            "|     18|   Four Rooms (1995)|              Comedy|\n",
            "|     19|Ace Ventura: When...|              Comedy|\n",
            "|     20|  Money Train (1995)|Action|Comedy|Cri...|\n",
            "+-------+--------------------+--------------------+\n",
            "only showing top 20 rows\n",
            "\n"
          ]
        }
      ]
    },
    {
      "cell_type": "markdown",
      "source": [
        "# Filter Operations"
      ],
      "metadata": {
        "id": "FXiyH_aayDmQ"
      }
    },
    {
      "cell_type": "code",
      "source": [
        "df_pyspark.filter(\"movieId<=10\").show()"
      ],
      "metadata": {
        "colab": {
          "base_uri": "https://localhost:8080/"
        },
        "id": "v3mBaPO2yF9s",
        "outputId": "6f1e9c1f-146b-448e-9d79-81e6249c1d44"
      },
      "execution_count": 4,
      "outputs": [
        {
          "output_type": "stream",
          "name": "stdout",
          "text": [
            "+-------+--------------------+--------------------+\n",
            "|movieId|               title|              genres|\n",
            "+-------+--------------------+--------------------+\n",
            "|      1|    Toy Story (1995)|Adventure|Animati...|\n",
            "|      2|      Jumanji (1995)|Adventure|Childre...|\n",
            "|      3|Grumpier Old Men ...|      Comedy|Romance|\n",
            "|      4|Waiting to Exhale...|Comedy|Drama|Romance|\n",
            "|      5|Father of the Bri...|              Comedy|\n",
            "|      6|         Heat (1995)|Action|Crime|Thri...|\n",
            "|      7|      Sabrina (1995)|      Comedy|Romance|\n",
            "|      8| Tom and Huck (1995)|  Adventure|Children|\n",
            "|      9| Sudden Death (1995)|              Action|\n",
            "|     10|    GoldenEye (1995)|Action|Adventure|...|\n",
            "+-------+--------------------+--------------------+\n",
            "\n"
          ]
        }
      ]
    },
    {
      "cell_type": "markdown",
      "source": [
        "# Filter and Select Columns"
      ],
      "metadata": {
        "id": "ZhtY4MiF0B_N"
      }
    },
    {
      "cell_type": "code",
      "source": [
        "df_pyspark.filter(\"movieId<=10\").select([\"title\", \"genres\"]).show()"
      ],
      "metadata": {
        "colab": {
          "base_uri": "https://localhost:8080/"
        },
        "id": "5iViWnJjyQRJ",
        "outputId": "b9eec929-eaac-4b34-a192-74a3769ff9a0"
      },
      "execution_count": 5,
      "outputs": [
        {
          "output_type": "stream",
          "name": "stdout",
          "text": [
            "+--------------------+--------------------+\n",
            "|               title|              genres|\n",
            "+--------------------+--------------------+\n",
            "|    Toy Story (1995)|Adventure|Animati...|\n",
            "|      Jumanji (1995)|Adventure|Childre...|\n",
            "|Grumpier Old Men ...|      Comedy|Romance|\n",
            "|Waiting to Exhale...|Comedy|Drama|Romance|\n",
            "|Father of the Bri...|              Comedy|\n",
            "|         Heat (1995)|Action|Crime|Thri...|\n",
            "|      Sabrina (1995)|      Comedy|Romance|\n",
            "| Tom and Huck (1995)|  Adventure|Children|\n",
            "| Sudden Death (1995)|              Action|\n",
            "|    GoldenEye (1995)|Action|Adventure|...|\n",
            "+--------------------+--------------------+\n",
            "\n"
          ]
        }
      ]
    },
    {
      "cell_type": "code",
      "source": [
        "df_pyspark.filter(df_pyspark[\"movieId\"]<=10).select([\"title\", \"genres\"]).show()"
      ],
      "metadata": {
        "colab": {
          "base_uri": "https://localhost:8080/"
        },
        "id": "RRo7iJGGybWw",
        "outputId": "56f30e1a-4646-4444-c201-9410002cf03a"
      },
      "execution_count": 6,
      "outputs": [
        {
          "output_type": "stream",
          "name": "stdout",
          "text": [
            "+--------------------+--------------------+\n",
            "|               title|              genres|\n",
            "+--------------------+--------------------+\n",
            "|    Toy Story (1995)|Adventure|Animati...|\n",
            "|      Jumanji (1995)|Adventure|Childre...|\n",
            "|Grumpier Old Men ...|      Comedy|Romance|\n",
            "|Waiting to Exhale...|Comedy|Drama|Romance|\n",
            "|Father of the Bri...|              Comedy|\n",
            "|         Heat (1995)|Action|Crime|Thri...|\n",
            "|      Sabrina (1995)|      Comedy|Romance|\n",
            "| Tom and Huck (1995)|  Adventure|Children|\n",
            "| Sudden Death (1995)|              Action|\n",
            "|    GoldenEye (1995)|Action|Adventure|...|\n",
            "+--------------------+--------------------+\n",
            "\n"
          ]
        }
      ]
    },
    {
      "cell_type": "markdown",
      "source": [
        "# Multiple Filters"
      ],
      "metadata": {
        "id": "X8epZ_ziz4pY"
      }
    },
    {
      "cell_type": "code",
      "source": [
        "df_pyspark.filter((df_pyspark[\"movieId\"]<=10) & (df_pyspark[\"movieId\"]>=5)).select([\"title\", \"genres\"]).show()"
      ],
      "metadata": {
        "colab": {
          "base_uri": "https://localhost:8080/"
        },
        "id": "maQ3ZAI4ylfv",
        "outputId": "5bd04a12-a687-49d1-db56-5e73bb48ca9e"
      },
      "execution_count": 9,
      "outputs": [
        {
          "output_type": "stream",
          "name": "stdout",
          "text": [
            "+--------------------+--------------------+\n",
            "|               title|              genres|\n",
            "+--------------------+--------------------+\n",
            "|Father of the Bri...|              Comedy|\n",
            "|         Heat (1995)|Action|Crime|Thri...|\n",
            "|      Sabrina (1995)|      Comedy|Romance|\n",
            "| Tom and Huck (1995)|  Adventure|Children|\n",
            "| Sudden Death (1995)|              Action|\n",
            "|    GoldenEye (1995)|Action|Adventure|...|\n",
            "+--------------------+--------------------+\n",
            "\n"
          ]
        }
      ]
    },
    {
      "cell_type": "markdown",
      "source": [
        "# Not Operation"
      ],
      "metadata": {
        "id": "9CmPB1UQz1sg"
      }
    },
    {
      "cell_type": "code",
      "source": [
        "df_pyspark.filter(~(df_pyspark[\"movieId\"]<=10)).select([\"title\", \"genres\"]).show()"
      ],
      "metadata": {
        "colab": {
          "base_uri": "https://localhost:8080/"
        },
        "id": "PMwiDGHPzvsK",
        "outputId": "40aae83b-01c6-4ee3-c2eb-3e8dfc59b6ba"
      },
      "execution_count": 11,
      "outputs": [
        {
          "output_type": "stream",
          "name": "stdout",
          "text": [
            "+--------------------+--------------------+\n",
            "|               title|              genres|\n",
            "+--------------------+--------------------+\n",
            "|American Presiden...|Comedy|Drama|Romance|\n",
            "|Dracula: Dead and...|       Comedy|Horror|\n",
            "|        Balto (1995)|Adventure|Animati...|\n",
            "|        Nixon (1995)|               Drama|\n",
            "|Cutthroat Island ...|Action|Adventure|...|\n",
            "|       Casino (1995)|         Crime|Drama|\n",
            "|Sense and Sensibi...|       Drama|Romance|\n",
            "|   Four Rooms (1995)|              Comedy|\n",
            "|Ace Ventura: When...|              Comedy|\n",
            "|  Money Train (1995)|Action|Comedy|Cri...|\n",
            "|   Get Shorty (1995)|Comedy|Crime|Thri...|\n",
            "|      Copycat (1995)|Crime|Drama|Horro...|\n",
            "|    Assassins (1995)|Action|Crime|Thri...|\n",
            "|       Powder (1995)|        Drama|Sci-Fi|\n",
            "|Leaving Las Vegas...|       Drama|Romance|\n",
            "|      Othello (1995)|               Drama|\n",
            "| Now and Then (1995)|      Children|Drama|\n",
            "|   Persuasion (1995)|       Drama|Romance|\n",
            "|City of Lost Chil...|Adventure|Drama|F...|\n",
            "|Shanghai Triad (Y...|         Crime|Drama|\n",
            "+--------------------+--------------------+\n",
            "only showing top 20 rows\n",
            "\n"
          ]
        }
      ]
    }
  ]
}