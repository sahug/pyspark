{
  "nbformat": 4,
  "nbformat_minor": 0,
  "metadata": {
    "colab": {
      "provenance": [],
      "authorship_tag": "ABX9TyMPFNRxg5j/7YUhngZk3XJw",
      "include_colab_link": true
    },
    "kernelspec": {
      "name": "python3",
      "display_name": "Python 3"
    },
    "language_info": {
      "name": "python"
    }
  },
  "cells": [
    {
      "cell_type": "markdown",
      "metadata": {
        "id": "view-in-github",
        "colab_type": "text"
      },
      "source": [
        "<a href=\"https://colab.research.google.com/github/sahug/pyspark/blob/main/Spark%20-%20PySpark%20-%20GroupBy%20and%20Aggregate.ipynb\" target=\"_parent\"><img src=\"https://colab.research.google.com/assets/colab-badge.svg\" alt=\"Open In Colab\"/></a>"
      ]
    },
    {
      "cell_type": "markdown",
      "source": [
        "# **Spark - PySpark - GroupBy and Aggregate**"
      ],
      "metadata": {
        "id": "EbNrI1KShMzF"
      }
    },
    {
      "cell_type": "code",
      "execution_count": 1,
      "metadata": {
        "colab": {
          "base_uri": "https://localhost:8080/"
        },
        "id": "0kwgW5CyhGfu",
        "outputId": "dd09ae8d-7140-4fe5-8275-f6cf7630f875"
      },
      "outputs": [
        {
          "output_type": "stream",
          "name": "stdout",
          "text": [
            "Looking in indexes: https://pypi.org/simple, https://us-python.pkg.dev/colab-wheels/public/simple/\n",
            "Collecting pyspark\n",
            "  Downloading pyspark-3.3.1.tar.gz (281.4 MB)\n",
            "\u001b[K     |████████████████████████████████| 281.4 MB 45 kB/s \n",
            "\u001b[?25hCollecting py4j==0.10.9.5\n",
            "  Downloading py4j-0.10.9.5-py2.py3-none-any.whl (199 kB)\n",
            "\u001b[K     |████████████████████████████████| 199 kB 46.8 MB/s \n",
            "\u001b[?25hBuilding wheels for collected packages: pyspark\n",
            "  Building wheel for pyspark (setup.py) ... \u001b[?25l\u001b[?25hdone\n",
            "  Created wheel for pyspark: filename=pyspark-3.3.1-py2.py3-none-any.whl size=281845512 sha256=ef7341b1d47a67b1fdb5018fe7fd656cda6bef41533040b4ae6047c647efd7d0\n",
            "  Stored in directory: /root/.cache/pip/wheels/42/59/f5/79a5bf931714dcd201b26025347785f087370a10a3329a899c\n",
            "Successfully built pyspark\n",
            "Installing collected packages: py4j, pyspark\n",
            "Successfully installed py4j-0.10.9.5 pyspark-3.3.1\n"
          ]
        }
      ],
      "source": [
        "!pip install pyspark"
      ]
    },
    {
      "cell_type": "code",
      "source": [
        "from pyspark.sql import SparkSession\n",
        "spark = SparkSession.builder.appName(\"GroubNAgg\").getOrCreate()"
      ],
      "metadata": {
        "id": "iAhYDXVihTfm"
      },
      "execution_count": 3,
      "outputs": []
    },
    {
      "cell_type": "code",
      "source": [
        "df_pyspark = spark.read.csv(\"/content/movies.csv\", header=True, inferSchema=True)"
      ],
      "metadata": {
        "id": "MPA3PJFBh0hs"
      },
      "execution_count": 5,
      "outputs": []
    },
    {
      "cell_type": "code",
      "source": [
        "df_pyspark.printSchema()"
      ],
      "metadata": {
        "colab": {
          "base_uri": "https://localhost:8080/"
        },
        "id": "dAUuPG4nh4rS",
        "outputId": "c4c186b2-1d06-4d1d-d701-10f196ef64eb"
      },
      "execution_count": 6,
      "outputs": [
        {
          "output_type": "stream",
          "name": "stdout",
          "text": [
            "root\n",
            " |-- movieId: integer (nullable = true)\n",
            " |-- title: string (nullable = true)\n",
            " |-- genres: string (nullable = true)\n",
            "\n"
          ]
        }
      ]
    },
    {
      "cell_type": "markdown",
      "source": [
        "# GroupBy"
      ],
      "metadata": {
        "id": "bOzGhqJhiQUF"
      }
    },
    {
      "cell_type": "code",
      "source": [
        "df_pyspark.groupBy(\"genres\").sum().show()"
      ],
      "metadata": {
        "colab": {
          "base_uri": "https://localhost:8080/"
        },
        "id": "DZZi3M8giPaQ",
        "outputId": "84c8ec90-0c02-4b1c-eab8-816bbe6cfe9e"
      },
      "execution_count": 9,
      "outputs": [
        {
          "output_type": "stream",
          "name": "stdout",
          "text": [
            "+--------------------+------------+\n",
            "|              genres|sum(movieId)|\n",
            "+--------------------+------------+\n",
            "|Comedy|Horror|Thr...|      705578|\n",
            "|Adventure|Sci-Fi|...|      271036|\n",
            "|Action|Adventure|...|      457041|\n",
            "| Action|Drama|Horror|        7387|\n",
            "|Action|Animation|...|      259862|\n",
            "|Animation|Childre...|         831|\n",
            "|Action|Adventure|...|     1336731|\n",
            "|    Adventure|Sci-Fi|      422619|\n",
            "|Documentary|Music...|       58879|\n",
            "|Adventure|Childre...|       70305|\n",
            "| Adventure|Animation|      232942|\n",
            "| Musical|Romance|War|        2941|\n",
            "|Action|Adventure|...|        5540|\n",
            "|Adventure|Childre...|      129850|\n",
            "|Comedy|Crime|Horr...|       66943|\n",
            "|Crime|Drama|Fanta...|       72731|\n",
            "|Comedy|Mystery|Th...|        8234|\n",
            "|   Adventure|Fantasy|      572346|\n",
            "|Horror|Romance|Sc...|      130840|\n",
            "|Drama|Film-Noir|R...|        1269|\n",
            "+--------------------+------------+\n",
            "only showing top 20 rows\n",
            "\n"
          ]
        }
      ]
    },
    {
      "cell_type": "code",
      "source": [
        "df_pyspark.groupBy(\"genres\").mean().show()"
      ],
      "metadata": {
        "colab": {
          "base_uri": "https://localhost:8080/"
        },
        "id": "f-8m3KF8i1iB",
        "outputId": "a23968d3-9520-4da6-f913-231d1108d5b7"
      },
      "execution_count": 10,
      "outputs": [
        {
          "output_type": "stream",
          "name": "stdout",
          "text": [
            "+--------------------+------------------+\n",
            "|              genres|      avg(movieId)|\n",
            "+--------------------+------------------+\n",
            "|Comedy|Horror|Thr...| 41504.58823529412|\n",
            "|Adventure|Sci-Fi|...|           67759.0|\n",
            "|Action|Adventure|...|           76173.5|\n",
            "| Action|Drama|Horror|            7387.0|\n",
            "|Action|Animation|...|          129931.0|\n",
            "|Animation|Childre...|             415.5|\n",
            "|Action|Adventure|...|49508.555555555555|\n",
            "|    Adventure|Sci-Fi|           28174.6|\n",
            "|Documentary|Music...|           58879.0|\n",
            "|Adventure|Childre...|           70305.0|\n",
            "| Adventure|Animation|          116471.0|\n",
            "| Musical|Romance|War|            2941.0|\n",
            "|Action|Adventure|...|            5540.0|\n",
            "|Adventure|Childre...|           64925.0|\n",
            "|Comedy|Crime|Horr...|           66943.0|\n",
            "|Crime|Drama|Fanta...|           72731.0|\n",
            "|Comedy|Mystery|Th...|2744.6666666666665|\n",
            "|   Adventure|Fantasy| 44026.61538461538|\n",
            "|Horror|Romance|Sc...|          130840.0|\n",
            "|Drama|Film-Noir|R...|             634.5|\n",
            "+--------------------+------------------+\n",
            "only showing top 20 rows\n",
            "\n"
          ]
        }
      ]
    },
    {
      "cell_type": "code",
      "source": [
        "df_pyspark.groupBy(\"genres\").count().show()"
      ],
      "metadata": {
        "colab": {
          "base_uri": "https://localhost:8080/"
        },
        "id": "b-gqi9MvjGxE",
        "outputId": "fe9f7898-7a91-49e2-c504-b447b2abd18d"
      },
      "execution_count": 11,
      "outputs": [
        {
          "output_type": "stream",
          "name": "stdout",
          "text": [
            "+--------------------+-----+\n",
            "|              genres|count|\n",
            "+--------------------+-----+\n",
            "|Comedy|Horror|Thr...|   17|\n",
            "|Adventure|Sci-Fi|...|    4|\n",
            "|Action|Adventure|...|    6|\n",
            "| Action|Drama|Horror|    1|\n",
            "|Action|Animation|...|    2|\n",
            "|Animation|Childre...|    2|\n",
            "|Action|Adventure|...|   27|\n",
            "|    Adventure|Sci-Fi|   15|\n",
            "|Documentary|Music...|    1|\n",
            "|Adventure|Childre...|    1|\n",
            "| Adventure|Animation|    2|\n",
            "| Musical|Romance|War|    1|\n",
            "|Action|Adventure|...|    1|\n",
            "|Adventure|Childre...|    2|\n",
            "|Comedy|Crime|Horr...|    1|\n",
            "|Crime|Drama|Fanta...|    1|\n",
            "|Comedy|Mystery|Th...|    3|\n",
            "|   Adventure|Fantasy|   13|\n",
            "|Horror|Romance|Sc...|    1|\n",
            "|Drama|Film-Noir|R...|    2|\n",
            "+--------------------+-----+\n",
            "only showing top 20 rows\n",
            "\n"
          ]
        }
      ]
    },
    {
      "cell_type": "markdown",
      "source": [
        "# Aggregate"
      ],
      "metadata": {
        "id": "tAur5yvJjO_3"
      }
    },
    {
      "cell_type": "code",
      "source": [
        "df_pyspark.agg({\"genres\":\"count\"}).show()"
      ],
      "metadata": {
        "colab": {
          "base_uri": "https://localhost:8080/"
        },
        "id": "dPrfS_xgjQd4",
        "outputId": "0a3cae5a-b00b-47fe-ad51-ab5bf54617f8"
      },
      "execution_count": 13,
      "outputs": [
        {
          "output_type": "stream",
          "name": "stdout",
          "text": [
            "+-------------+\n",
            "|count(genres)|\n",
            "+-------------+\n",
            "|         9742|\n",
            "+-------------+\n",
            "\n"
          ]
        }
      ]
    }
  ]
}