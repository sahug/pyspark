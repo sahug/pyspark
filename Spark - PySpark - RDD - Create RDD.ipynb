{
  "nbformat": 4,
  "nbformat_minor": 0,
  "metadata": {
    "colab": {
      "provenance": [],
      "authorship_tag": "ABX9TyNAXFBFtocKxXm570PPvrAN",
      "include_colab_link": true
    },
    "kernelspec": {
      "name": "python3",
      "display_name": "Python 3"
    },
    "language_info": {
      "name": "python"
    }
  },
  "cells": [
    {
      "cell_type": "markdown",
      "metadata": {
        "id": "view-in-github",
        "colab_type": "text"
      },
      "source": [
        "<a href=\"https://colab.research.google.com/github/sahug/pyspark/blob/main/Spark%20-%20PySpark%20-%20RDD%20-%20Create%20RDD.ipynb\" target=\"_parent\"><img src=\"https://colab.research.google.com/assets/colab-badge.svg\" alt=\"Open In Colab\"/></a>"
      ]
    },
    {
      "cell_type": "markdown",
      "source": [
        "# **Spark - PySpark - RDD - Create RDD**"
      ],
      "metadata": {
        "id": "_GLZNH3uvmyf"
      }
    },
    {
      "cell_type": "markdown",
      "source": [
        "RDDs are immutable and fault-tolerant in nature. RDD is just the way of representing Dataset distributed across multiple nodes in a cluster, which can be operated in parallel. RDDs are called resilient because they have the ability to always re-compute an RDD when a node failure."
      ],
      "metadata": {
        "id": "JQtCDrWrAtjm"
      }
    },
    {
      "cell_type": "code",
      "execution_count": 1,
      "metadata": {
        "colab": {
          "base_uri": "https://localhost:8080/"
        },
        "id": "rzlMZaWBvhum",
        "outputId": "ddfe200b-e554-45e8-89c2-771071f445ec"
      },
      "outputs": [
        {
          "output_type": "stream",
          "name": "stdout",
          "text": [
            "Looking in indexes: https://pypi.org/simple, https://us-python.pkg.dev/colab-wheels/public/simple/\n",
            "Collecting pyspark\n",
            "  Downloading pyspark-3.3.1.tar.gz (281.4 MB)\n",
            "\u001b[K     |████████████████████████████████| 281.4 MB 37 kB/s \n",
            "\u001b[?25hCollecting py4j\n",
            "  Downloading py4j-0.10.9.7-py2.py3-none-any.whl (200 kB)\n",
            "\u001b[K     |████████████████████████████████| 200 kB 55.2 MB/s \n",
            "\u001b[?25h  Downloading py4j-0.10.9.5-py2.py3-none-any.whl (199 kB)\n",
            "\u001b[K     |████████████████████████████████| 199 kB 13.1 MB/s \n",
            "\u001b[?25hBuilding wheels for collected packages: pyspark\n",
            "  Building wheel for pyspark (setup.py) ... \u001b[?25l\u001b[?25hdone\n",
            "  Created wheel for pyspark: filename=pyspark-3.3.1-py2.py3-none-any.whl size=281845512 sha256=4302cde9c0a422fb0581fb27c68bddb53e2a0dffa65b08f53f2b861fe38291cd\n",
            "  Stored in directory: /root/.cache/pip/wheels/43/dc/11/ec201cd671da62fa9c5cc77078235e40722170ceba231d7598\n",
            "Successfully built pyspark\n",
            "Installing collected packages: py4j, pyspark\n",
            "Successfully installed py4j-0.10.9.5 pyspark-3.3.1\n"
          ]
        }
      ],
      "source": [
        "!pip install pyspark py4j"
      ]
    },
    {
      "cell_type": "markdown",
      "source": [
        "##**Create RDD from Seq or List (using Parallelize)**"
      ],
      "metadata": {
        "id": "exjDYnJ3vxmD"
      }
    },
    {
      "cell_type": "code",
      "source": [
        "from pyspark.sql import SparkSession"
      ],
      "metadata": {
        "id": "nHRuCHNSweBL"
      },
      "execution_count": 2,
      "outputs": []
    },
    {
      "cell_type": "code",
      "source": [
        "spark = SparkSession.builder.master(\"local[1]\") \\\n",
        "        .appName(\"RDDCreate\") \\\n",
        "        .getOrCreate()"
      ],
      "metadata": {
        "id": "TpyIdH1YwnMK"
      },
      "execution_count": 12,
      "outputs": []
    },
    {
      "cell_type": "markdown",
      "source": [
        "### **From Seq**"
      ],
      "metadata": {
        "id": "_aejgkfk9YFW"
      }
    },
    {
      "cell_type": "code",
      "source": [
        "rdd_frm_seq = spark.sparkContext.parallelize(((\"Java\", 20000), (\"Python\", 10000), (\"Scala\", 20000)))"
      ],
      "metadata": {
        "id": "Ntw--Z68vzLc"
      },
      "execution_count": 16,
      "outputs": []
    },
    {
      "cell_type": "code",
      "source": [
        "collector = rdd_frm_seq.collect()"
      ],
      "metadata": {
        "id": "hDQqbCqHzwQ7"
      },
      "execution_count": 17,
      "outputs": []
    },
    {
      "cell_type": "code",
      "source": [
        "for rdd in collector:\n",
        "  print(rdd)"
      ],
      "metadata": {
        "colab": {
          "base_uri": "https://localhost:8080/"
        },
        "id": "YzUVqEdAx3O5",
        "outputId": "f1f55098-3074-4c68-c81e-ada87fe50fed"
      },
      "execution_count": 18,
      "outputs": [
        {
          "output_type": "stream",
          "name": "stdout",
          "text": [
            "('Java', 20000)\n",
            "('Python', 10000)\n",
            "('Scala', 20000)\n"
          ]
        }
      ]
    },
    {
      "cell_type": "markdown",
      "source": [
        "### **From Text Files**"
      ],
      "metadata": {
        "id": "WPLoZCfg-N37"
      }
    },
    {
      "cell_type": "code",
      "source": [
        "rdd_frm_file = spark.sparkContext.textFile(\"/content/files/*\")"
      ],
      "metadata": {
        "id": "xCvyM2JX-u_3"
      },
      "execution_count": 9,
      "outputs": []
    },
    {
      "cell_type": "code",
      "source": [
        "collector = rdd_frm_file.collect()"
      ],
      "metadata": {
        "id": "IecPR6HT-u_4"
      },
      "execution_count": 10,
      "outputs": []
    },
    {
      "cell_type": "code",
      "source": [
        "for rdd in collector:\n",
        "  print(\"Col_1 : {} and Col_2: {}\".format(rdd.split(\",\")[0], rdd.split(\",\")[1]))"
      ],
      "metadata": {
        "colab": {
          "base_uri": "https://localhost:8080/"
        },
        "outputId": "0b9b97f6-a89c-403a-84ac-37ac68d91f70",
        "id": "BWnUR9ym-u_4"
      },
      "execution_count": 11,
      "outputs": [
        {
          "output_type": "stream",
          "name": "stdout",
          "text": [
            "Col_1 : Invalid and Col_2:  I\n",
            "Col_1 : One and Col_2:  1\n",
            "Col_1 : Two and Col_2:  2\n"
          ]
        }
      ]
    },
    {
      "cell_type": "markdown",
      "source": [
        "### **From RDD**"
      ],
      "metadata": {
        "id": "fBZNDe9fDErL"
      }
    },
    {
      "cell_type": "code",
      "source": [
        "rdd_frm_rdd = spark.range(20).toDF().rdd"
      ],
      "metadata": {
        "id": "j2nZvBiNGHJi"
      },
      "execution_count": null,
      "outputs": []
    }
  ]
}