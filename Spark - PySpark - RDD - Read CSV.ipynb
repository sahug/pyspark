{
  "nbformat": 4,
  "nbformat_minor": 0,
  "metadata": {
    "colab": {
      "provenance": [],
      "authorship_tag": "ABX9TyML51iacpZwM4igL9JzCC9D",
      "include_colab_link": true
    },
    "kernelspec": {
      "name": "python3",
      "display_name": "Python 3"
    },
    "language_info": {
      "name": "python"
    }
  },
  "cells": [
    {
      "cell_type": "markdown",
      "metadata": {
        "id": "view-in-github",
        "colab_type": "text"
      },
      "source": [
        "<a href=\"https://colab.research.google.com/github/sahug/pyspark/blob/main/Spark%20-%20PySpark%20-%20RDD%20-%20Read%20CSV.ipynb\" target=\"_parent\"><img src=\"https://colab.research.google.com/assets/colab-badge.svg\" alt=\"Open In Colab\"/></a>"
      ]
    },
    {
      "cell_type": "markdown",
      "source": [
        "# **Spark - PySpark - RDD - Read CSV**"
      ],
      "metadata": {
        "id": "_GLZNH3uvmyf"
      }
    },
    {
      "cell_type": "code",
      "execution_count": 1,
      "metadata": {
        "colab": {
          "base_uri": "https://localhost:8080/"
        },
        "id": "rzlMZaWBvhum",
        "outputId": "ddfe200b-e554-45e8-89c2-771071f445ec"
      },
      "outputs": [
        {
          "output_type": "stream",
          "name": "stdout",
          "text": [
            "Looking in indexes: https://pypi.org/simple, https://us-python.pkg.dev/colab-wheels/public/simple/\n",
            "Collecting pyspark\n",
            "  Downloading pyspark-3.3.1.tar.gz (281.4 MB)\n",
            "\u001b[K     |████████████████████████████████| 281.4 MB 37 kB/s \n",
            "\u001b[?25hCollecting py4j\n",
            "  Downloading py4j-0.10.9.7-py2.py3-none-any.whl (200 kB)\n",
            "\u001b[K     |████████████████████████████████| 200 kB 55.2 MB/s \n",
            "\u001b[?25h  Downloading py4j-0.10.9.5-py2.py3-none-any.whl (199 kB)\n",
            "\u001b[K     |████████████████████████████████| 199 kB 13.1 MB/s \n",
            "\u001b[?25hBuilding wheels for collected packages: pyspark\n",
            "  Building wheel for pyspark (setup.py) ... \u001b[?25l\u001b[?25hdone\n",
            "  Created wheel for pyspark: filename=pyspark-3.3.1-py2.py3-none-any.whl size=281845512 sha256=4302cde9c0a422fb0581fb27c68bddb53e2a0dffa65b08f53f2b861fe38291cd\n",
            "  Stored in directory: /root/.cache/pip/wheels/43/dc/11/ec201cd671da62fa9c5cc77078235e40722170ceba231d7598\n",
            "Successfully built pyspark\n",
            "Installing collected packages: py4j, pyspark\n",
            "Successfully installed py4j-0.10.9.5 pyspark-3.3.1\n"
          ]
        }
      ],
      "source": [
        "!pip install pyspark py4j"
      ]
    },
    {
      "cell_type": "markdown",
      "source": [
        "### **textFile()**"
      ],
      "metadata": {
        "id": "exjDYnJ3vxmD"
      }
    },
    {
      "cell_type": "code",
      "source": [
        "from pyspark.sql import SparkSession"
      ],
      "metadata": {
        "id": "nHRuCHNSweBL"
      },
      "execution_count": 2,
      "outputs": []
    },
    {
      "cell_type": "code",
      "source": [
        "spark = SparkSession.builder.master(\"local[1]\") \\\n",
        "        .appName(\"RDDCSVFile\") \\\n",
        "        .getOrCreate()"
      ],
      "metadata": {
        "id": "TpyIdH1YwnMK"
      },
      "execution_count": 3,
      "outputs": []
    },
    {
      "cell_type": "markdown",
      "source": [
        "### **Single File**"
      ],
      "metadata": {
        "id": "_aejgkfk9YFW"
      }
    },
    {
      "cell_type": "code",
      "source": [
        "rdd_csv_file = spark.sparkContext.textFile(\"/content/files/sample_1.txt\")"
      ],
      "metadata": {
        "id": "Ntw--Z68vzLc"
      },
      "execution_count": 4,
      "outputs": []
    },
    {
      "cell_type": "code",
      "source": [
        "collector = rdd_csv_file.collect()"
      ],
      "metadata": {
        "id": "hDQqbCqHzwQ7"
      },
      "execution_count": 6,
      "outputs": []
    },
    {
      "cell_type": "code",
      "source": [
        "for rdd in collector:\n",
        "  print(\"Col_1 : {} and Col_2: {}\".format(rdd.split(\",\")[0], rdd.split(\",\")[1]))"
      ],
      "metadata": {
        "colab": {
          "base_uri": "https://localhost:8080/"
        },
        "id": "YzUVqEdAx3O5",
        "outputId": "45676ed0-1681-4ecf-91c6-18cd95eae594"
      },
      "execution_count": 8,
      "outputs": [
        {
          "output_type": "stream",
          "name": "stdout",
          "text": [
            "Col_1 : One and Col_2:  1\n"
          ]
        }
      ]
    },
    {
      "cell_type": "markdown",
      "source": [
        "### **Multiple Files**"
      ],
      "metadata": {
        "id": "WPLoZCfg-N37"
      }
    },
    {
      "cell_type": "code",
      "source": [
        "rdd_csv_file = spark.sparkContext.textFile(\"/content/files/*\")"
      ],
      "metadata": {
        "id": "xCvyM2JX-u_3"
      },
      "execution_count": 9,
      "outputs": []
    },
    {
      "cell_type": "code",
      "source": [
        "collector = rdd_csv_file.collect()"
      ],
      "metadata": {
        "id": "IecPR6HT-u_4"
      },
      "execution_count": 10,
      "outputs": []
    },
    {
      "cell_type": "code",
      "source": [
        "for rdd in collector:\n",
        "  print(\"Col_1 : {} and Col_2: {}\".format(rdd.split(\",\")[0], rdd.split(\",\")[1]))"
      ],
      "metadata": {
        "colab": {
          "base_uri": "https://localhost:8080/"
        },
        "outputId": "0b9b97f6-a89c-403a-84ac-37ac68d91f70",
        "id": "BWnUR9ym-u_4"
      },
      "execution_count": 11,
      "outputs": [
        {
          "output_type": "stream",
          "name": "stdout",
          "text": [
            "Col_1 : Invalid and Col_2:  I\n",
            "Col_1 : One and Col_2:  1\n",
            "Col_1 : Two and Col_2:  2\n"
          ]
        }
      ]
    }
  ]
}